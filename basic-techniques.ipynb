{
 "cells": [
  {
   "cell_type": "code",
   "id": "initial_id",
   "metadata": {
    "collapsed": true,
    "ExecuteTime": {
     "end_time": "2024-04-30T10:50:12.794956Z",
     "start_time": "2024-04-30T10:50:09.925130Z"
    }
   },
   "source": [
    "from abc import abstractmethod\n",
    "\n",
    "class LLM:\n",
    "    \n",
    "    @abstractmethod\n",
    "    def generate(self, system_prompt: str, user_prompt: str) -> str:\n",
    "        \"\"\"\n",
    "        Generate an answer to prompt passed as a parameter\n",
    "        \n",
    "        Args:\n",
    "            system_prompt: The prompt that defines the LLM\n",
    "            user_prompt: The prompt to answer\n",
    "        \n",
    "        Returns:\n",
    "            The output for that prompt\n",
    "        \"\"\"\n",
    "\n",
    "class LLama3(LLM):\n",
    "\n",
    "    def __init__(self):\n",
    "        from dotenv import load_dotenv\n",
    "        from groq import Groq\n",
    "        import os\n",
    "\n",
    "        load_dotenv()\n",
    "        self.client = Groq(api_key=os.environ.get(\"GROQ_API_KEY\"))\n",
    "    \n",
    "    def generate(self, system_prompt: str, user_prompt: str) -> str:\n",
    "        chat_completion = self.client.chat.completions.create(\n",
    "            messages=[\n",
    "                {\n",
    "                    \"role\": \"system\",\n",
    "                    \"content\": system_prompt\n",
    "                },\n",
    "                {\n",
    "                    \"role\": \"user\",\n",
    "                    \"content\": user_prompt\n",
    "                }\n",
    "            ],\n",
    "            model=\"llama3-70b-8192\",\n",
    "        )\n",
    "        return chat_completion.choices[0].message.content\n",
    "\n",
    "class Phi3(LLM):\n",
    "    \n",
    "    def __init__(self):\n",
    "        import ollama\n",
    "        self.client = ollama\n",
    "\n",
    "    def generate(self, system_prompt: str, user_prompt: str) -> str:\n",
    "        response = self.client.chat(model=\"phi3\", messages=[\n",
    "            {\"role\": \"system\", \"content\": system_prompt},\n",
    "            {\"role\": \"user\", \"content\": user_prompt}\n",
    "        ])\n",
    "        return response[\"message\"][\"content\"]\n",
    "\n",
    "class FactoryLLM:\n",
    "    \n",
    "    @staticmethod\n",
    "    def create_model(model_name: str) -> LLM:\n",
    "        \"\"\"\n",
    "        Create a model based on the name passed as a parameter\n",
    "        \n",
    "        Args:\n",
    "            model_name: The name of the model to create\n",
    "        \n",
    "        Returns:\n",
    "            The model created\n",
    "        \"\"\"\n",
    "        class_llm = {\n",
    "            \"llama3\": LLama3,\n",
    "            \"phi3\": Phi3\n",
    "        }\n",
    "        \n",
    "        if model_name not in class_llm:\n",
    "            raise ValueError(f\"model must be in {class_llm.keys()}\")\n",
    "        \n",
    "        return class_llm[model_name]()\n",
    "\n",
    "model_name = \"llama3\"\n",
    "model = FactoryLLM.create_model(model_name)\n",
    "\n",
    "print(model.generate(\"Hola\", \"Hola\"))"
   ],
   "outputs": [
    {
     "name": "stdout",
     "output_type": "stream",
     "text": [
      "¡Hola! ¿Cómo estás?\n"
     ]
    }
   ],
   "execution_count": 23
  },
  {
   "metadata": {
    "ExecuteTime": {
     "end_time": "2024-04-30T10:50:14.948847Z",
     "start_time": "2024-04-30T10:50:12.796955Z"
    }
   },
   "cell_type": "code",
   "source": [
    "# Zero-shot vs. few-shot\n",
    "\n",
    "prompt_zero_shot = {\n",
    "    \"system_prompt\": \"Evalúa el sentimiento del texto que se te pase\",\n",
    "    \"user_prompt\": \"No estoy seguro de cómo me siento.\"\n",
    "}\n",
    "\n",
    "prompt_zero_shot_improved = {\n",
    "    \"system_prompt\": \"Evalúa el sentimiento del texto que se te pase, \"\n",
    "              \"Solo puedes responder con: Positivo, Negativo o Neutral\"\n",
    "              \"La salida debe ser Sentimiento: <Positivo/Negativo/Neutral>\",\n",
    "    \"user_prompt\": \"No estoy seguro de cómo me siento.\"\n",
    "}\n",
    "\n",
    "prompt_few_shot = {\n",
    "    \"system_prompt\": \"Texto: Estoy muy feliz hoy, Sentimiento: Positivo\"\n",
    "              \"Texto: Odio tener que levantarme temprano, Sentimiento: Negativo\"\n",
    "              \"Texto: No me importa si llueve Sentimiento: Neutral\"\n",
    "              \"Evalúa el sentimiento del texto que se te pase usando los ejemplos anteriores\",\n",
    "    \"user_prompt\": \"Texto: No estoy seguro de cómo me siento.\"\n",
    "}\n",
    "\n",
    "print(model.generate(**prompt_zero_shot))\n",
    "print(model.generate(**prompt_zero_shot_improved))\n",
    "print(model.generate(**prompt_few_shot))"
   ],
   "id": "2928cb8bc2d71807",
   "outputs": [
    {
     "name": "stdout",
     "output_type": "stream",
     "text": [
      "El sentimiento predominante en este texto es la INCERTIDUMBRE o la DUDA. La frase expresa una sensación de no estar seguro o claro sobre cómo se siente, lo que sugiere un estado emocional de indecisión o confusión.\n",
      "Sentimiento: Neutral\n",
      "Sentimiento: Neutral\n"
     ]
    }
   ],
   "execution_count": 24
  },
  {
   "metadata": {
    "ExecuteTime": {
     "end_time": "2024-04-30T10:50:17.099499Z",
     "start_time": "2024-04-30T10:50:14.950935Z"
    }
   },
   "cell_type": "code",
   "source": [
    "# Chain of thoughts\n",
    "\n",
    "prompt_chain_of_thoughts = {\n",
    "    \"system_prompt\": \"Dado el problema que se te dé, debes resolverlo paso a paso y después dar una solución\",\n",
    "    \"user_prompt\": \"¿Es 11436181919023821 un número primo?\"\n",
    "}\n",
    "\n",
    "print(model.generate(**prompt_chain_of_thoughts))"
   ],
   "id": "3ffedca52d2c1d9",
   "outputs": [
    {
     "name": "stdout",
     "output_type": "stream",
     "text": [
      "Vamos a resolver este problema paso a paso:\n",
      "\n",
      "**Paso 1: Definición de número primo**\n",
      "Un número primo es un número natural mayor que 1 que solo tiene dos divisores: 1 y sí mismo.\n",
      "\n",
      "**Paso 2: Análisis del número**\n",
      "El número dado es 11436181919023821. Vamos a analizar sus propiedades.\n",
      "\n",
      "**Paso 3: Verificar si es divisible por 2**\n",
      "Si el número es par (acaba en 0, 2, 4, 6 o 8), no es primo. En este caso, el número termina en 1, por lo que no es divisible por 2.\n",
      "\n",
      "**Paso 4: Verificar si es divisible por 3**\n",
      "Si la suma de sus dígitos es divisible por 3, el número también lo es. La suma de los dígitos es:\n",
      "1 + 1 + 4 + 3 + 6 + 1 + 8 + 1 + 9 + 0 + 2 + 3 + 8 + 2 + 1 = 40\n",
      "La suma no es divisible por 3, por lo que el número no es divisible por 3.\n",
      "\n",
      "**Paso 5: Verificar si es divisible por otros números primos**\n",
      "Vamos a verificar si el número es divisible por otros números primos menores que su raíz cuadrada. La raíz cuadrada de 11436181919023821 es aproximadamente 338543.\n",
      "Vamos a verificar la divisibilidad por 5, 7, 11, 13, ..., 337 (primos menores que 338543):\n",
      "* No es divisible por 5 (no acaba en 0 ni 5).\n",
      "* No es divisible por 7 (no cumple la regla de divisibilidad por 7).\n",
      "* ...\n",
      "* No es divisible por 337 (no cumple la regla de divisibilidad por 337).\n",
      "\n",
      "**Paso 6: Conclusión**\n",
      "Después de analizar las propiedades del número, podemos concluir que **no hemos encontrado ningún divisor diferente de 1 y sí mismo**, lo que sugiere que **11436181919023821 es un número primo**.\n",
      "\n",
      "Sin embargo, para confirmar esto con absoluta certeza, necesitaríamos utilizar un algoritmo más avanzado de prueba de primalidad, como el test de primalidad de AKS, que es un algoritmo más complejo que excede el ámbito de esta respuesta.\n"
     ]
    }
   ],
   "execution_count": 25
  },
  {
   "metadata": {
    "ExecuteTime": {
     "end_time": "2024-04-30T10:51:44.992984Z",
     "start_time": "2024-04-30T10:51:02.425360Z"
    }
   },
   "cell_type": "code",
   "source": [
    "import time\n",
    "import random\n",
    "\n",
    "# Meta-Prompt Engineering\n",
    "\n",
    "prompt_meta_prompt = {\n",
    "    \"system_prompt\": \"Tu misión es generar prompts que sean puedas resolver una tarea específica, se te dará el resultado de la anterior iteración para que puedas mejorar tu respuesta.\",\n",
    "    \"user_prompt\": \"Determina si el número dado es primo. Anterior salida: {previous_output}\"\n",
    "}\n",
    "\n",
    "previous_output = \"\"\n",
    "\n",
    "for i in range(5):\n",
    "    \n",
    "    system_prompt = model.generate(**{\n",
    "        \"system_prompt\": prompt_meta_prompt[\"system_prompt\"],\n",
    "        \"user_prompt\": prompt_meta_prompt[\"user_prompt\"].format(previous_output=previous_output)\n",
    "    })\n",
    "    \n",
    "    print(system_prompt)\n",
    "    print(100*\"-\")\n",
    "    \n",
    "    number = random.randint(1, 1000000)\n",
    "    prompt = {\n",
    "        \"system_prompt\": system_prompt,\n",
    "        \"user_prompt\": f\"¿Es {number} un número primo?\"\n",
    "    }\n",
    "    \n",
    "    previous_output = model.generate(**prompt)\n",
    "    time.sleep(3)"
   ],
   "id": "18c4ecaef21df504",
   "outputs": [
    {
     "name": "stdout",
     "output_type": "stream",
     "text": [
      "No hay anterior salida, así que empezaré con una respuesta inicial.\n",
      "\n",
      "Aquí te dejo un prompt para determinar si un número dado es primo:\n",
      "\n",
      "\"Escribe un algoritmo que tome un número entero positivo como entrada y devuelva 'True' si el número es primo y 'False' en caso contrario.\"\n",
      "\n",
      "Puedes proporcionarmefeedback sobre esta respuesta y mejoraré mi respuesta en la próxima iteración.\n",
      "----------------------------------------------------------------------------------------------------\n",
      "¡Excelente! Ahora que tienes un algoritmo para determinar si un número es primo, te propongo un desafío nuevo:\n",
      "\n",
      "Determina si un número es un número de Fermat. Un número de Fermat es un número que se puede expresar como 2 elevado a una potencia de 2, más 1. Por ejemplo, 3 (2^2 + 1), 5 (2^4 + 1), 17 (2^8 + 1), etc.\n",
      "\n",
      "Puedes utilizar el algoritmo de primalidad que acabamos de desarrollar para ayudarte en esta tarea. ¿Puedes escribir un algoritmo que determine si un número dado es un número de Fermat?\n",
      "----------------------------------------------------------------------------------------------------\n",
      "Un desafío interesante!\n",
      "\n",
      "Sugerencia de mejora:\n",
      "\n",
      "En lugar de utilizar un bucle infinito y depender de la condición de salida `fermat_candidate > n`, podemos utilizar una aproximación más matemática. Notemos que `2^(2^k)` crece exponencialmente con `k`. Podemos encontrar una cota superior para `k` utilizando la función logaritmo.\n",
      "\n",
      "Aquí hay una optimización posible:\n",
      "```\n",
      "def is_fermat(n):\n",
      "    k_max = int(math.log2(math.log2(n-1)) + 1)\n",
      "    for k in range(k_max + 1):\n",
      "        fermat_candidate = 2**(2**k) + 1\n",
      "        if fermat_candidate == n:\n",
      "            return True\n",
      "        elif fermat_candidate > n:\n",
      "            return False\n",
      "```\n",
      "Aquí, estamos utilizando la fórmula `k_max = int(math.log2(math.log2(n-1)) + 1)` para encontrar una cota superior para `k`, lo que reduce significativamente el número de iteraciones necesarias. Luego, podemos iterar sobre `k` en un rango finito y verificar si el número candidato es igual a `n`.\n",
      "\n",
      "¿Quieres probar esta optimización con algunos ejemplos?\n",
      "----------------------------------------------------------------------------------------------------\n",
      "Entiendo. Gracias por la retroalimentación. Mi nuevo prompt es:\n",
      "\n",
      "\"Crear una función en Python que tome un número entero como entrada y devuelva `True` si el número es primo y `False` en caso contrario. Utilizar la biblioteca `sympy` para implementar la función `is_prime`.\"\n",
      "\n",
      "Espero que esto sea más específico y útil.\n",
      "----------------------------------------------------------------------------------------------------\n",
      "¡Excelente! Gracias por la retroalimentación. Mi siguiente prompt es:\n",
      "\n",
      "Escribir una función en Python que determine si un número es un número de Armstrong. Un número de Armstrong es un número que es igual a la suma de los cuadrados de sus dígitos elevados a la potencia del número de dígitos. Por ejemplo, 371 es un número de Armstrong porque 3^3 + 7^3 + 1^3 = 371.\n",
      "----------------------------------------------------------------------------------------------------\n"
     ]
    }
   ],
   "execution_count": 27
  }
 ],
 "metadata": {
  "kernelspec": {
   "display_name": "Python 3",
   "language": "python",
   "name": "python3"
  },
  "language_info": {
   "codemirror_mode": {
    "name": "ipython",
    "version": 2
   },
   "file_extension": ".py",
   "mimetype": "text/x-python",
   "name": "python",
   "nbconvert_exporter": "python",
   "pygments_lexer": "ipython2",
   "version": "2.7.6"
  }
 },
 "nbformat": 4,
 "nbformat_minor": 5
}
