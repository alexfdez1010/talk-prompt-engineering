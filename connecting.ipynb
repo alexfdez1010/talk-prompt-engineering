{
 "cells": [
  {
   "metadata": {},
   "cell_type": "markdown",
   "source": "Change the `.env.example` filename to `.env`, add in this file your key of Groq. You can obtain the key on https://console.groq.com/keys. It is free.",
   "id": "801f2e49579c2e15"
  },
  {
   "metadata": {
    "ExecuteTime": {
     "end_time": "2024-04-30T07:21:00.980532Z",
     "start_time": "2024-04-30T07:20:54.630583Z"
    }
   },
   "cell_type": "code",
   "source": [
    "import os\n",
    "from groq import Groq\n",
    "from dotenv import load_dotenv\n",
    "\n",
    "load_dotenv()\n",
    "\n",
    "client = Groq(api_key=os.environ.get(\"GROQ_API_KEY\"))\n",
    "\n",
    "chat_completion = client.chat.completions.create(\n",
    "    messages=[\n",
    "        {\n",
    "            \"role\": \"user\",\n",
    "            \"content\": \"Why is important prompt engineering nowadays?\"\n",
    "        }\n",
    "    ],\n",
    "    model=\"llama3-70b-8192\",\n",
    ")\n",
    "print(chat_completion.choices[0].message.content)"
   ],
   "id": "c55e557026eedcba",
   "outputs": [
    {
     "name": "stdout",
     "output_type": "stream",
     "text": [
      "Prompt engineering has become increasingly important in recent years due to the rapid advancement of artificial intelligence (AI) and natural language processing (NLP) technologies. Here are some reasons why prompt engineering is crucial nowadays:\n",
      "\n",
      "1. **AI-powered automation**: As AI models become more prevalent in various industries, the quality of input prompts significantly affects their performance. Well-crafted prompts can lead to accurate and relevant outputs, while poorly designed prompts can result in suboptimal or incorrect responses.\n",
      "2. **Language models and fine-tuning**: The rise of large language models like BERT, RoBERTa, and XLNet has created a need for high-quality prompts to fine-tune these models for specific tasks. Prompt engineering ensures that the fine-tuning process is effective and efficient.\n",
      "3. **Explainability and transparency**: With the increasing use of AI in high-stakes applications, there is a growing need to understand how AI models arrive at their decisions. Prompt engineering helps design transparent and interpretable AI systems by crafting inputs that elicit informative responses.\n",
      "4. **Adversarial attacks and robustness**: As AI models become more widespread, there is a growing concern about adversarial attacks. Prompt engineering can help identify vulnerabilities in AI systems and develop robustness against such attacks by designing inputs that test the models' limits.\n",
      "5. **Human-AI collaboration**: As humans and AI systems collaborate more closely, the quality of prompts becomes critical in ensuring effective communication and task allocation. Well-designed prompts facilitate seamless collaboration and improve overall productivity.\n",
      "6. **Specialized domain knowledge**: Prompt engineering is essential in domains like healthcare, finance, and law, where AI models require domain-specific knowledge to provide accurate and relevant outputs. Effective prompts ensure that AI models are aligned with domain experts' knowledge and requirements.\n",
      "7. **Scalability and efficiency**: As AI is applied to an increasing number of tasks and industries, prompt engineering helps optimize the development process by identifying the most informative and effective prompts, reducing the need for extensive retraining or recalibration of models.\n",
      "8. **Ethical considerations**: Prompt engineering can help mitigate biases and ensure fair and unbiased AI decision-making by designing inputs that are diverse, inclusive, and representative of various perspectives.\n",
      "9. **Research and development**: Prompt engineering is crucial in advancing AI research, as it enables the development of new AI models, fine-tuning techniques, and evaluation methodologies, which in turn drive innovation in the field.\n",
      "10. **Practical applications**: Prompt engineering has numerous practical applications in areas like customer service, language translation, and content generation, where well-designed prompts are essential for providing accurate and relevant responses.\n",
      "\n",
      "In summary, prompt engineering is essential for developing effective, efficient, and reliable AI systems that can accurately respond to user input, and its importance will only continue to grow as AI technology advances.\n"
     ]
    }
   ],
   "execution_count": 8
  },
  {
   "metadata": {},
   "cell_type": "markdown",
   "source": [
    "Before executing a model you need to pull it, for that you should use the following command in the terminal:\n",
    "\n",
    "```bash\n",
    "ollama pull <model-name>\n",
    "```"
   ],
   "id": "cfafad73d99e244f"
  },
  {
   "metadata": {
    "ExecuteTime": {
     "end_time": "2024-04-30T07:30:23.619850Z",
     "start_time": "2024-04-30T07:30:10.125393Z"
    }
   },
   "cell_type": "code",
   "source": [
    "import ollama\n",
    "\n",
    "MODEL = \"phi3\" # Change by llama3 to obtain a more powerful model\n",
    "streaming = ollama.chat(model=MODEL, messages=[\n",
    "  {\n",
    "    'role': 'user',\n",
    "    'content': 'Why is the sky blue?',\n",
    "  },\n",
    "], stream=True)\n",
    "\n",
    "for response in streaming:\n",
    "  print(response['message']['content'], end='', flush=True)"
   ],
   "id": "f81176cece03d5ab",
   "outputs": [
    {
     "name": "stdout",
     "output_type": "stream",
     "text": [
      " The sky appears blue to the human eye because of a process called Rayleigh scattering. As sunlight enters Earth's atmosphere, it is made up of various colors, each with different wavelengths. Shorter wavelengths (blue and violet) are scattered in all directions by the gases and particles in the air more than other colors because they travel as smaller, shorter waves. However, our eyes are less sensitive to violet light, and some of it gets absorbed by the atmosphere, which is why we perceive the sky as blue instead of violet. Additionally, the sunlight's path through the Earth's atmosphere also plays a role; during daytime, when looking directly upward, you see more scattered blue light than at any other angle in the sky, further enhancing its appearance to us."
     ]
    }
   ],
   "execution_count": 13
  }
 ],
 "metadata": {
  "kernelspec": {
   "display_name": "Python 3",
   "language": "python",
   "name": "python3"
  },
  "language_info": {
   "codemirror_mode": {
    "name": "ipython",
    "version": 2
   },
   "file_extension": ".py",
   "mimetype": "text/x-python",
   "name": "python",
   "nbconvert_exporter": "python",
   "pygments_lexer": "ipython2",
   "version": "2.7.6"
  }
 },
 "nbformat": 4,
 "nbformat_minor": 5
}
