{
 "cells": [
  {
   "cell_type": "code",
   "id": "initial_id",
   "metadata": {
    "collapsed": true,
    "ExecuteTime": {
     "end_time": "2024-04-30T07:12:27.831894Z",
     "start_time": "2024-04-30T07:12:14.414132Z"
    }
   },
   "source": "",
   "outputs": [
    {
     "name": "stdout",
     "output_type": "stream",
     "text": [
      " The sky appears blue to us due to a phenomenon called Rayleigh scattering. As sunlight reaches Earth's atmosphere, it encounters molecules and small particles that are much smaller than its wavelength. This interaction causes the light to scatter in different directions. Blue light (with shorter wavelength) scatters more than other colors because it travels as shorter, smaller waves. Thus, when we look at the sky away from direct sunlight, we see a blue color due to this scattered blue light.\n",
      "\n",
      "Here's a simplified explanation:\n",
      "\n",
      "1. Sunlight consists of different colors (wavelengths) of light, which together create white light.\n",
      "2. When this sunlight enters Earth's atmosphere, it encounters air molecules and particles that are much smaller than its wavelength.\n",
      "3. These small particles scatter the blue light more effectively due to Rayleigh scattering (shorter wavelengths scatter more).\n",
      "4. As a result, our eyes perceive the scattered blue light coming from all directions, making the sky appear predominantly blue during the day.\n",
      "5. However, at sunrise or sunset, when the light has to pass through a thicker layer of Earth's atmosphere, shorter wavelengths (like blue) get scattered away more and don't reach our eyes as efficiently, which is why we see red hues in these conditions instead."
     ]
    }
   ],
   "execution_count": 3
  }
 ],
 "metadata": {
  "kernelspec": {
   "display_name": "Python 3",
   "language": "python",
   "name": "python3"
  },
  "language_info": {
   "codemirror_mode": {
    "name": "ipython",
    "version": 2
   },
   "file_extension": ".py",
   "mimetype": "text/x-python",
   "name": "python",
   "nbconvert_exporter": "python",
   "pygments_lexer": "ipython2",
   "version": "2.7.6"
  }
 },
 "nbformat": 4,
 "nbformat_minor": 5
}
