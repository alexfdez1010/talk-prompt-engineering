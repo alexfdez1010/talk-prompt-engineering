{
 "cells": [
  {
   "cell_type": "code",
   "id": "initial_id",
   "metadata": {
    "collapsed": true,
    "ExecuteTime": {
     "end_time": "2024-05-03T16:00:22.794309Z",
     "start_time": "2024-05-03T16:00:22.787796Z"
    }
   },
   "source": [
    "import tiktoken\n",
    "\n",
    "encoding = tiktoken.get_encoding(\"cl100k_base\")\n",
    "\n",
    "print(f\"Máximo número de tokens: {encoding.max_token_value}\")"
   ],
   "outputs": [
    {
     "name": "stdout",
     "output_type": "stream",
     "text": [
      "Máximo número de tokens: 100276\n"
     ]
    }
   ],
   "execution_count": 4
  },
  {
   "metadata": {
    "ExecuteTime": {
     "end_time": "2024-05-03T16:00:22.801299Z",
     "start_time": "2024-05-03T16:00:22.796651Z"
    }
   },
   "cell_type": "code",
   "source": [
    "spanish_text = \"Hola, ¿cómo estás? Me llamo Juan y soy de España.\"\n",
    "english_text = \"Hello, how are you? My name is John and I am from England.\"\n",
    "galician_text = \"Ola, ¿como estás? Chámome Xoán e son de Galicia.\"\n",
    "\n",
    "spanish_tokens = encoding.encode(spanish_text)\n",
    "english_tokens = encoding.encode(english_text)\n",
    "galician_tokens = encoding.encode(galician_text)\n",
    "\n",
    "print(f\"Número de tokens en español: {len(spanish_tokens)}\")\n",
    "print(f\"Número de tokens en inglés: {len(english_tokens)}\")\n",
    "print(f\"Número de tokens en gallego: {len(galician_tokens)}\")"
   ],
   "id": "8c91d6893aff144f",
   "outputs": [
    {
     "name": "stdout",
     "output_type": "stream",
     "text": [
      "Número de tokens en español: 17\n",
      "Número de tokens en inglés: 16\n",
      "Número de tokens en gallego: 20\n"
     ]
    }
   ],
   "execution_count": 5
  },
  {
   "metadata": {
    "ExecuteTime": {
     "end_time": "2024-05-03T16:00:22.805239Z",
     "start_time": "2024-05-03T16:00:22.802039Z"
    }
   },
   "cell_type": "code",
   "source": [
    "text = \"😇\"\n",
    "tokens = encoding.encode(text)\n",
    "\n",
    "print(f\"Texto: {text}\")\n",
    "print(f\"Número de tokens: {len(tokens)}\")\n",
    "print(f\"Tokens: {tokens}\")"
   ],
   "id": "353c382447f6b241",
   "outputs": [
    {
     "name": "stdout",
     "output_type": "stream",
     "text": [
      "Texto: 😇\n",
      "Número de tokens: 2\n",
      "Tokens: [76460, 229]\n"
     ]
    }
   ],
   "execution_count": 6
  }
 ],
 "metadata": {
  "kernelspec": {
   "display_name": "Python 3",
   "language": "python",
   "name": "python3"
  },
  "language_info": {
   "codemirror_mode": {
    "name": "ipython",
    "version": 2
   },
   "file_extension": ".py",
   "mimetype": "text/x-python",
   "name": "python",
   "nbconvert_exporter": "python",
   "pygments_lexer": "ipython2",
   "version": "2.7.6"
  }
 },
 "nbformat": 4,
 "nbformat_minor": 5
}
