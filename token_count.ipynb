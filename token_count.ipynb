{
 "cells": [
  {
   "cell_type": "code",
   "id": "initial_id",
   "metadata": {
    "collapsed": true,
    "ExecuteTime": {
     "end_time": "2024-04-30T10:34:56.571130Z",
     "start_time": "2024-04-30T10:34:56.564897Z"
    }
   },
   "source": [
    "import tiktoken\n",
    "\n",
    "encoding = tiktoken.get_encoding(\"cl100k_base\")\n",
    "\n",
    "print(f\"Máximo número de tokens: {encoding.max_token_value}\")"
   ],
   "outputs": [
    {
     "name": "stdout",
     "output_type": "stream",
     "text": [
      "Máximo número de tokens: 100276\n"
     ]
    }
   ],
   "execution_count": 11
  },
  {
   "metadata": {
    "ExecuteTime": {
     "end_time": "2024-04-30T10:34:56.577269Z",
     "start_time": "2024-04-30T10:34:56.573092Z"
    }
   },
   "cell_type": "code",
   "source": [
    "spanish_text = \"Hola, ¿cómo estás? Me llamo Juan y soy de España.\"\n",
    "english_text = \"Hello, how are you? My name is John and I am from England.\"\n",
    "galician_text = \"Ola, ¿como estás? Chámome Xoán e son de Galicia.\"\n",
    "\n",
    "spanish_tokens = encoding.encode(spanish_text)\n",
    "english_tokens = encoding.encode(english_text)\n",
    "galician_tokens = encoding.encode(galician_text)\n",
    "\n",
    "print(f\"Número de tokens en español: {len(spanish_tokens)}\")\n",
    "print(f\"Número de tokens en inglés: {len(english_tokens)}\")\n",
    "print(f\"Número de tokens en gallego: {len(galician_tokens)}\")"
   ],
   "id": "8c91d6893aff144f",
   "outputs": [
    {
     "name": "stdout",
     "output_type": "stream",
     "text": [
      "Número de tokens en español: 17\n",
      "Número de tokens en inglés: 16\n",
      "Número de tokens en gallego: 20\n"
     ]
    }
   ],
   "execution_count": 12
  },
  {
   "metadata": {
    "ExecuteTime": {
     "end_time": "2024-04-30T10:35:03.752135Z",
     "start_time": "2024-04-30T10:34:56.578204Z"
    }
   },
   "cell_type": "code",
   "source": [
    "text = input(\"Introduce el texto a tokenizar: \")\n",
    "tokens = encoding.encode(text)\n",
    "\n",
    "print(f\"Texto: {text}\")\n",
    "print(f\"Número de tokens: {len(tokens)}\")\n",
    "print(f\"Tokens: {tokens}\")"
   ],
   "id": "353c382447f6b241",
   "outputs": [
    {
     "name": "stdout",
     "output_type": "stream",
     "text": [
      "Texto: Hola, ¿qué haces?\n",
      "Número de tokens: 7\n",
      "Tokens: [69112, 11, 29386, 64591, 305, 2492, 30]\n"
     ]
    }
   ],
   "execution_count": 13
  }
 ],
 "metadata": {
  "kernelspec": {
   "display_name": "Python 3",
   "language": "python",
   "name": "python3"
  },
  "language_info": {
   "codemirror_mode": {
    "name": "ipython",
    "version": 2
   },
   "file_extension": ".py",
   "mimetype": "text/x-python",
   "name": "python",
   "nbconvert_exporter": "python",
   "pygments_lexer": "ipython2",
   "version": "2.7.6"
  }
 },
 "nbformat": 4,
 "nbformat_minor": 5
}
